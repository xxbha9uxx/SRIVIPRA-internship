{
 "cells": [
  {
   "cell_type": "markdown",
   "id": "028fbd61-497b-42d1-a154-5f534b42ba1e",
   "metadata": {},
   "source": [
    "**Importing Libraries**"
   ]
  },
  {
   "cell_type": "code",
   "execution_count": 1,
   "id": "92751f4a-c0a0-480c-a595-45b2c8812518",
   "metadata": {},
   "outputs": [],
   "source": [
    "import matplotlib.pyplot as plt\n",
    "import numpy as np\n",
    "from sklearn import datasets, linear_model"
   ]
  },
  {
   "cell_type": "markdown",
   "id": "6ea36e27-72fa-40e4-9d3b-159a335b4ade",
   "metadata": {},
   "source": [
    "**Loading dataset**"
   ]
  },
  {
   "cell_type": "code",
   "execution_count": 4,
   "id": "31257e96-69db-4e7e-9a1a-ef6b6f8d4ea1",
   "metadata": {},
   "outputs": [],
   "source": [
    "diabetes = datasets.load_diabetes()"
   ]
  },
  {
   "cell_type": "markdown",
   "id": "cf5d89d1-ed7c-4804-8736-635d962340ad",
   "metadata": {},
   "source": [
    "**About datasets from sklearn**\n",
    "\n",
    "*The datasets provided by sklearn (Scikit-learn) are useful for practicing machine learning techniques. Scikit-learn offers several datasets, including both small toy datasets (for learning and testing purposes) and larger real-world datasets. These datasets are available through the sklearn.datasets module and are typically in the form of Bunch objects, which are dictionary-like objects.*\n",
    "\n",
    "**Structure of the Datasets**\n",
    "\n",
    "**The datasets are typically returned as Bunch objects, which have the following attributes:**\n",
    "\n",
    "*data: The feature matrix (2D numpy array where each row represents a sample and each column represents a feature).*\n",
    "\n",
    "*target: The target values (1D numpy array where each element represents the target value for a sample).---------dependent variable*\n",
    "\n",
    "*DESCR: A description of the dataset.*\n",
    "\n",
    "*feature_names: The names of the features (for some datasets). -------- independent variables*\n",
    "\n",
    "*target_names: The names of the target classes (for classification datasets).*\n",
    "\n",
    "*frame: A pandas DataFrame containing the dataset, available if as_frame=True is passed when loading the dataset.*\n",
    "\n",
    "**Note : the independent and dependent variables(target variables) are already separated in this dataset**"
   ]
  },
  {
   "cell_type": "code",
   "execution_count": 5,
   "id": "946080d6-6be0-403f-9d9f-61211f162071",
   "metadata": {},
   "outputs": [
    {
     "name": "stdout",
     "output_type": "stream",
     "text": [
      "dict_keys(['data', 'target', 'frame', 'DESCR', 'feature_names', 'data_filename', 'target_filename', 'data_module'])\n"
     ]
    }
   ],
   "source": [
    "print(diabetes.keys())     #or print(diabetes['keys'])             #we have used numpy array as sklearn works on numpy array"
   ]
  },
  {
   "cell_type": "code",
   "execution_count": 7,
   "id": "eba7a655-e5dc-4427-b137-c60cb8150d62",
   "metadata": {},
   "outputs": [
    {
     "name": "stdout",
     "output_type": "stream",
     "text": [
      "(442, 10)\n"
     ]
    }
   ],
   "source": [
    "print(diabetes.data.shape)      #or print(diabetes['data'].shape) "
   ]
  },
  {
   "cell_type": "code",
   "execution_count": null,
   "id": "6dd95052-6fae-439c-8721-f6fc6c3a1498",
   "metadata": {},
   "outputs": [],
   "source": [
    "print(diabetes.data)          #or print(diabetes['data'])"
   ]
  },
  {
   "cell_type": "code",
   "execution_count": null,
   "id": "b2b2fea5-52cf-49db-86fe-7389c4e34d55",
   "metadata": {},
   "outputs": [],
   "source": [
    "print(diabetes.feature_names)     #or print(diabetes['features_name'])"
   ]
  },
  {
   "cell_type": "code",
   "execution_count": null,
   "id": "53cc49ef-ca65-45d1-a7f5-f77560e75c43",
   "metadata": {},
   "outputs": [],
   "source": [
    "print(diabetes.target)      #or print(diabetes['target'])"
   ]
  },
  {
   "cell_type": "code",
   "execution_count": 6,
   "id": "4a7e1780-1775-4183-b779-642c5e8d28fd",
   "metadata": {},
   "outputs": [
    {
     "name": "stdout",
     "output_type": "stream",
     "text": [
      ".. _diabetes_dataset:\n",
      "\n",
      "Diabetes dataset\n",
      "----------------\n",
      "\n",
      "Ten baseline variables, age, sex, body mass index, average blood\n",
      "pressure, and six blood serum measurements were obtained for each of n =\n",
      "442 diabetes patients, as well as the response of interest, a\n",
      "quantitative measure of disease progression one year after baseline.\n",
      "\n",
      "**Data Set Characteristics:**\n",
      "\n",
      ":Number of Instances: 442\n",
      "\n",
      ":Number of Attributes: First 10 columns are numeric predictive values\n",
      "\n",
      ":Target: Column 11 is a quantitative measure of disease progression one year after baseline\n",
      "\n",
      ":Attribute Information:\n",
      "    - age     age in years\n",
      "    - sex\n",
      "    - bmi     body mass index\n",
      "    - bp      average blood pressure\n",
      "    - s1      tc, total serum cholesterol\n",
      "    - s2      ldl, low-density lipoproteins\n",
      "    - s3      hdl, high-density lipoproteins\n",
      "    - s4      tch, total cholesterol / HDL\n",
      "    - s5      ltg, possibly log of serum triglycerides level\n",
      "    - s6      glu, blood sugar level\n",
      "\n",
      "Note: Each of these 10 feature variables have been mean centered and scaled by the standard deviation times the square root of `n_samples` (i.e. the sum of squares of each column totals 1).\n",
      "\n",
      "Source URL:\n",
      "https://www4.stat.ncsu.edu/~boos/var.select/diabetes.html\n",
      "\n",
      "For more information see:\n",
      "Bradley Efron, Trevor Hastie, Iain Johnstone and Robert Tibshirani (2004) \"Least Angle Regression,\" Annals of Statistics (with discussion), 407-499.\n",
      "(https://web.stanford.edu/~hastie/Papers/LARS/LeastAngle_2002.pdf)\n",
      "\n"
     ]
    }
   ],
   "source": [
    "print(diabetes.DESCR)     #or print(diabetes['DESCR'])"
   ]
  },
  {
   "cell_type": "markdown",
   "id": "ade54108-97e9-4130-b401-24adef76a88f",
   "metadata": {},
   "source": [
    "**Access the 'sex' column**"
   ]
  },
  {
   "cell_type": "code",
   "execution_count": null,
   "id": "4fccb9f8-b30c-468a-8f49-221d53376ce0",
   "metadata": {},
   "outputs": [],
   "source": [
    "feature_names = diabetes.feature_names\n",
    "sex_index = feature_names.index('sex')\n",
    "print(sex_index)\n",
    "diabetes_sex_column = diabetes.data[:,1]\n",
    "print(diabetes_sex_column)"
   ]
  },
  {
   "cell_type": "markdown",
   "id": "3811580e-3f54-4234-9cb2-e7d2375f92bf",
   "metadata": {},
   "source": [
    "**Indexing , adding new axis and reshaping**"
   ]
  },
  {
   "cell_type": "markdown",
   "id": "15eb4a62-ab5b-48c2-bf01-3d9e9d81bc10",
   "metadata": {},
   "source": [
    "*The expression diabetes.data[:, np.newaxis, 2] is used to extract the third feature (column) of the diabetes dataset and add a new axis,\n",
    "effectively turning it into a 2D array with one column.\n",
    "Here's a detailed breakdown:*\n",
    "\n",
    "*diabetes.data:*\n",
    "\n",
    "*This is the dataset containing the features (predictors) for the diabetes dataset. It is a 2D numpy array where rows represent samples and \n",
    "columns represent features.*\n",
    "\n",
    "*[:, np.newaxis, 2]:*\n",
    "\n",
    "*: This selects all rows.*\n",
    "\n",
    "*np.newaxis: This is used to add a new axis, effectively turning the selected data into a column vector.*\n",
    "\n",
    "*2: This selects the third column (index 2, since Python uses 0-based indexing).*\n",
    "\n",
    "*By using np.newaxis, you reshape the data to add a new dimension, converting it from a 1D array to a 2D array with a single column. This can be \n",
    "useful when you need to fit a model that expects a 2D array for the features.*"
   ]
  },
  {
   "cell_type": "code",
   "execution_count": null,
   "id": "675d39f5-a6f6-41e4-b84a-51eb6ca01191",
   "metadata": {},
   "outputs": [],
   "source": [
    "import numpy as np\n",
    "from sklearn import datasets\n",
    "\n",
    "# Load the diabetes dataset\n",
    "diabetes = datasets.load_diabetes()\n",
    "\n",
    "# Extract the third feature (index 2) and add a new axis\n",
    "diabetes_feature_3 = diabetes.data[:,np.newaxis, 2]\n",
    "print(diabetes_feature_3)\n",
    "\n",
    "# Check the shape of the original data and the reshaped data\n",
    "print(\"Original shape:\", diabetes.data.shape)\n",
    "print(\"New shape with one feature and new axis:\", diabetes_feature_3.shape)\n"
   ]
  },
  {
   "cell_type": "markdown",
   "id": "0de87daa-8263-4bd0-ae85-3091a8d67551",
   "metadata": {},
   "source": [
    "**Train-Split**"
   ]
  },
  {
   "cell_type": "markdown",
   "id": "4da773ea-94b6-4d1b-9388-cc03c333c673",
   "metadata": {},
   "source": [
    "*diabetes_X_train = diabetes_X[:-30]:*\n",
    "\n",
    "*1. This selects all rows of diabetes_X except the last 30.*\n",
    "\n",
    "*2. :-30 is slicing syntax that means \"up to but not including the last 30 elements.\"*\n",
    "\n",
    "*3. This is commonly used to create a training set, leaving the last 30 samples for testing.*\n",
    "\n",
    "\n",
    "*diabetes_X_test = diabetes_X[-30:]:*\n",
    "\n",
    "*1. This selects the last 30 rows of diabetes_X.*\n",
    "\n",
    "*2. -30: is slicing syntax that means \"starting from the 30th element from the end to the last element.\"*\n",
    "\n",
    "*3. This is used to create the testing set*"
   ]
  },
  {
   "cell_type": "code",
   "execution_count": null,
   "id": "1f6f1a94-fda8-48ab-9c94-2f05a76e073f",
   "metadata": {},
   "outputs": [],
   "source": [
    "diabetes_X = diabetes.data[:,np.newaxis,2]\n",
    "diabetes_X_train = diabetes_X[:-30]\n",
    "diabetes_X_test = diabetes_X[-30:]"
   ]
  },
  {
   "cell_type": "code",
   "execution_count": null,
   "id": "7e1d4ee0-b669-45ee-9356-eac5ab4beb46",
   "metadata": {},
   "outputs": [],
   "source": [
    "diabetes_y_train = diabetes.target[:-30]\n",
    "diabetes_y_test = diabetes.target[-30:]"
   ]
  },
  {
   "cell_type": "markdown",
   "id": "429199ed-9b10-44eb-a89c-f309124dfe5e",
   "metadata": {},
   "source": [
    "**Building the Model - Linear Regressor**"
   ]
  },
  {
   "cell_type": "code",
   "execution_count": null,
   "id": "7c92fde0-624b-47a7-8540-97b685a2f432",
   "metadata": {},
   "outputs": [],
   "source": [
    "model = linear_model.LinearRegression()"
   ]
  },
  {
   "cell_type": "markdown",
   "id": "6b2f2161-f461-4752-a3f1-3bd4982f9cb1",
   "metadata": {},
   "source": [
    "**Training the Model**"
   ]
  },
  {
   "cell_type": "code",
   "execution_count": null,
   "id": "bdc53b20-690a-4e06-a78c-e2c676e0cb9d",
   "metadata": {},
   "outputs": [],
   "source": [
    "model.fit(diabetes_X_train, diabetes_y_train)"
   ]
  },
  {
   "cell_type": "markdown",
   "id": "65630110-4b33-4826-8e27-ff7c04e3b4c8",
   "metadata": {},
   "source": [
    "**Testing the model - predicting**"
   ]
  },
  {
   "cell_type": "code",
   "execution_count": null,
   "id": "4a7e74c2-6175-4046-a71e-5e832b71db86",
   "metadata": {},
   "outputs": [],
   "source": [
    "diabetes_y_predicted = model.predict(diabetes_X_test)"
   ]
  },
  {
   "cell_type": "markdown",
   "id": "617d0101-f0fd-46b0-a4d4-9cf2eabe0f71",
   "metadata": {},
   "source": [
    "# Calculating mean squared error - to verify accuracy of the model &\n",
    "\n",
    "                \n",
    "# Calculating weight and the intercept"
   ]
  },
  {
   "cell_type": "markdown",
   "id": "568f5f1e-923a-48b2-9e68-1aefbfc9adc2",
   "metadata": {},
   "source": [
    "**For Second column - two variables- the equation will line - single weight**\n",
    "\n",
    "**Linear Regression**"
   ]
  },
  {
   "cell_type": "code",
   "execution_count": null,
   "id": "eab7ba0a-374b-4717-8530-8068bf85f074",
   "metadata": {},
   "outputs": [],
   "source": [
    "plt.scatter(diabetes_X_test, diabetes_y_test)\n",
    "plt.plot(diabetes_X_test, diabetes_y_predicted)\n",
    "\n",
    "plt.show()"
   ]
  },
  {
   "cell_type": "code",
   "execution_count": null,
   "id": "b12679df-87d9-4c4e-8047-7429655635f0",
   "metadata": {},
   "outputs": [],
   "source": [
    "from sklearn.metrics import  mean_squared_error\n",
    "print(\"Mean squared error is: \", mean_squared_error(diabetes_y_test, diabetes_y_predicted))\n",
    "\n",
    "print(\"Weights: \", model.coef_)     #weights - coef\n",
    "print(\"Intercept: \", model.intercept_)"
   ]
  },
  {
   "cell_type": "markdown",
   "id": "1f08527d-20fb-4cde-93a9-b6800879f459",
   "metadata": {},
   "source": [
    "# Calculating mean squared error - to verify accuracy of the model &\n",
    "\n",
    "                \n",
    "# Calculating weight and the intercept"
   ]
  },
  {
   "cell_type": "markdown",
   "id": "4eaebb6d-37a4-4826-be2f-a4e102efa74c",
   "metadata": {},
   "source": [
    "**For All the column(features)-**\n",
    "**The eqaution will not be line-multiple weights**\n",
    "\n",
    "**MULTIPLE REGRESSION**"
   ]
  },
  {
   "cell_type": "code",
   "execution_count": null,
   "id": "a1a2bf36-feb3-47d5-916e-2b2469ec1772",
   "metadata": {},
   "outputs": [],
   "source": [
    "diabetes_X1 = diabetes.data\n",
    "diabetes_X_train1 = diabetes_X1[:-30]\n",
    "diabetes_X_test1 = diabetes_X1[-30:]\n",
    "diabetes_y_train = diabetes.target[:-30]\n",
    "diabetes_y_test = diabetes.target[-30:]\n",
    "model.fit(diabetes_X_train1, diabetes_y_train)\n",
    "diabetes_y_predicted = model.predict(diabetes_X_test1)\n",
    "\n",
    "from sklearn.metrics import  mean_squared_error\n",
    "print(\"Mean squared error is: \", mean_squared_error(diabetes_y_test, diabetes_y_predicted))\n",
    "\n",
    "print(\"Weights: \", model.coef_)\n",
    "print(\"Intercept: \", model.intercept_)"
   ]
  },
  {
   "cell_type": "markdown",
   "id": "c0db8c13-85fc-43e1-8cee-004300532275",
   "metadata": {},
   "source": [
    "*note that after taking more number of feautures ----- the mean sqaured error decreased to half the earlier value indicating \n",
    "increased accuracy of the model*"
   ]
  }
 ],
 "metadata": {
  "kernelspec": {
   "display_name": "Python 3 (ipykernel)",
   "language": "python",
   "name": "python3"
  },
  "language_info": {
   "codemirror_mode": {
    "name": "ipython",
    "version": 3
   },
   "file_extension": ".py",
   "mimetype": "text/x-python",
   "name": "python",
   "nbconvert_exporter": "python",
   "pygments_lexer": "ipython3",
   "version": "3.12.0"
  }
 },
 "nbformat": 4,
 "nbformat_minor": 5
}
